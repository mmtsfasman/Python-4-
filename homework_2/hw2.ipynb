{
 "cells": [
  {
   "cell_type": "markdown",
   "metadata": {},
   "source": [
    "Вам необходимо написать программу, которая парсит статьи википедии (language=en) и считает по ним некоторые статистики.\n",
    "\n",
    "\n",
    "Task 1. Реализовать класс WikiParser с конструктором без аргументов и методом get_articles, который принимает название исходной статьи start, обходит все статьи википедии, на которые она ссылается, и возвращает список содержимого статей (с выполнением парсинга).\n",
    "При парсинге каждой статьи для того, чтобы убрать html теги, используется функция pattern.web.plaintext.\n",
    "В результате парсинга между соседними словами должно быть 1 пробел.\n",
    "В результате парсинга весь текст переводится в lowercase, знаки пунктуации выкидываются\n"
   ]
  },
  {
   "cell_type": "code",
   "execution_count": 79,
   "metadata": {},
   "outputs": [],
   "source": [
    "import pattern3\n",
    "from pattern3.web import Wikipedia, plaintext\n",
    "import re\n",
    "from collections import Counter,  defaultdict"
   ]
  },
  {
   "cell_type": "code",
   "execution_count": 80,
   "metadata": {
    "collapsed": true
   },
   "outputs": [],
   "source": [
    "class WikiParser:\n",
    "    def __init__(self):\n",
    "        pass\n",
    "\n",
    "    def get_articles(self, start):\n",
    "\n",
    "        article = Wikipedia().article(title=start)\n",
    "        links = article.links\n",
    "        list_of_strings = []\n",
    "        for l in links:\n",
    "            l_art = Wikipedia().article(title=l)\n",
    "            l_text =  re.sub(' +', ' ', plaintext(l_art.source), flags = re.DOTALL)\n",
    "            l_text = re.sub('[.;:!?\\'\\\"-\\(\\)1234567890@,]+', '', l_text, flags = re.DOTALL).lower()\n",
    "            list_of_strings.append(l_text.split())\n",
    "\n",
    "        return list_of_strings"
   ]
  },
  {
   "cell_type": "markdown",
   "metadata": {},
   "source": [
    " Реализовать класс TextStatistics с конструктором, который принимает в качестве аргумента список содержимого статей:\n",
    "get_top_3grams - возвращает tuple, первым элемент которого - список 3-грамм в порядке убывания их частот, второй элемент - соотвественно список сколько раз встретилась каждая 3грамма. Подсчет идет по всему корпусу articles. При подсчете 3-грамм исключить из рассмотрения все числа и пунктуацию.\n",
    "get_top_words - возвращает tuple, первым элемент которого - список слов в порядке убывания их частот, второй элемент - соотвественно список сколько раз встретилась каждое слово. Подсчет идет по всему корпусу articles. При подсчете слов исключить из рассмотрения все числа, предлоги, артикли и пунктуацию."
   ]
  },
  {
   "cell_type": "code",
   "execution_count": 81,
   "metadata": {},
   "outputs": [],
   "source": [
    "class TextStatistics:\n",
    "     def __init___(self, articles):\n",
    "            pass\n",
    "    \n",
    "     def get_top_3grams(self, n):\n",
    "            \n",
    "            list_of_3grams_in_descending_order_by_freq = []\n",
    "            list_of_their_corresponding_freq = []\n",
    "            for art in self.articles:\n",
    "                for i in range(len(self.articles[art]) - 2):\n",
    "                    three_gram = ' '.join(self.articles[art][i],  self.articles[art][i+1], self.articles[art][i+2])\n",
    "                    if three_gram in list_of_3grams_and_freq:\n",
    "                        list_of_3grams_and_freq.setdefault(three_gram, 0)\n",
    "                        list_of_3grams_and_freq[three_gram] += 1          \n",
    "            for key, value in sorted(list_of_3grams_and_freq.items(), key=operator.itemgetter(1)): \n",
    "                while len(list_of_3grams_in_descending_order_by_freq) != n:\n",
    "                    list_of_3grams_in_descending_order_by_freq.append(key)\n",
    "                    list_of_their_corresponding_freq.append(value)  \n",
    "                                          \n",
    "            return (list_of_3grams_in_descending_order_by_freq, list_of_their_corresponding_freq)\n",
    "    \n",
    "    \n",
    "    \n",
    "     def get_top_words(self, n):\n",
    "            list_of_words_in_descending_order_by_freq = []\n",
    "            list_of_their_corresponding_freq = []\n",
    "            \n",
    "            for art in self.articles:\n",
    "                for w in self.articles[art]:\n",
    "                    list_of_words_and_freq.setdefault(w, 0)\n",
    "                    list_of_words_and_freq[w] += 1 \n",
    "                    \n",
    "            for key, value in sorted(list_of_words_and_freq.items(), key=operator.itemgetter(1)): \n",
    "                while len(list_of_words_in_descending_order_by_freq) != n:\n",
    "                    list_of_words_in_descending_order_by_freq.append(key)\n",
    "                    list_of_their_corresponding_freq.append(value)  \n",
    "\n",
    "            return (list_of_words_in_descending_order_by_freq, list_of_their_corresponding_freq)"
   ]
  },
  {
   "cell_type": "markdown",
   "metadata": {},
   "source": [
    "3. Реализовать класс Experiment с методом show_results, который используя WikiParser и TextStatistics:\n",
    "Выполняет парсинг статей википедии для \"Natural language processing\"\n",
    "По полученному корпусу текстов считает топ-20 3-грамм и топ-20 слов.\n",
    "По статье \"Natural language processing\" (только по ней) считает топ-5 3-грамм и топ-5 слов.\n",
    "Печатает результаты эксперимента в структурированной форме\n",
    "4. В комментариях после класса Experiment привести результаты выполнения метода show_results.\n",
    "5. Результатом выполнения задания является код указанных классов и корректные результаты эксперимента"
   ]
  },
  {
   "cell_type": "code",
   "execution_count": 84,
   "metadata": {},
   "outputs": [
    {
     "ename": "SyntaxError",
     "evalue": "unexpected EOF while parsing (<ipython-input-84-24246cea8e1c>, line 17)",
     "output_type": "error",
     "traceback": [
      "\u001b[1;36m  File \u001b[1;32m\"<ipython-input-84-24246cea8e1c>\"\u001b[1;36m, line \u001b[1;32m17\u001b[0m\n\u001b[1;33m    \u001b[0m\n\u001b[1;37m    ^\u001b[0m\n\u001b[1;31mSyntaxError\u001b[0m\u001b[1;31m:\u001b[0m unexpected EOF while parsing\n"
     ]
    }
   ],
   "source": [
    "class Experiment:\n",
    "    def __init___(self):\n",
    "        pass\n",
    "      \n",
    "    def show_results(self):\n",
    "        parser = WikiParser()\n",
    "        articles = parser.get_articles('Natural language processing')\n",
    "        art_statistics = TextStatistics(articles)\n",
    "        print('топ-20 3-грамм по корпусу статей\\r\\n' + art_statistics.get_top_3grams(20))\n",
    "        print('топ-20 слов по корпусу статей\\r\\n' + art_statistics.get_top_words(20))\n",
    "        \n",
    "        article = Wikipedia().article('Natural language processing')\n",
    "        a_statistics = TextStatistics(article)\n",
    "        print('топ-5 3-грамм по самой статье \\r\\n' + a_statistics.get_top_3grams(5))\n",
    "        print('топ-5 слов по самой статье \\r\\n' + a_statistics.get_top_words(5))\n",
    "        \n",
    "    "
   ]
  },
  {
   "cell_type": "code",
   "execution_count": null,
   "metadata": {
    "collapsed": true
   },
   "outputs": [],
   "source": []
  }
 ],
 "metadata": {
  "kernelspec": {
   "display_name": "Python 3",
   "language": "python",
   "name": "python3"
  },
  "language_info": {
   "codemirror_mode": {
    "name": "ipython",
    "version": 3
   },
   "file_extension": ".py",
   "mimetype": "text/x-python",
   "name": "python",
   "nbconvert_exporter": "python",
   "pygments_lexer": "ipython3",
   "version": "3.6.1"
  }
 },
 "nbformat": 4,
 "nbformat_minor": 2
}
