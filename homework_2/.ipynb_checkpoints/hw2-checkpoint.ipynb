{
 "cells": [
  {
   "cell_type": "markdown",
   "metadata": {},
   "source": [
    "Вам необходимо написать программу, которая парсит статьи википедии (language=en) и считает по ним некоторые статистики.\n",
    "\n",
    "\n",
    "Task 1. Реализовать класс WikiParser с конструктором без аргументов и методом get_articles, который принимает название исходной статьи start, обходит все статьи википедии, на которые она ссылается, и возвращает список содержимого статей (с выполнением парсинга).\n",
    "При парсинге каждой статьи для того, чтобы убрать html теги, используется функция pattern.web.plaintext.\n",
    "В результате парсинга между соседними словами должно быть 1 пробел.\n",
    "В результате парсинга весь текст переводится в lowercase, знаки пунктуации выкидываются\n"
   ]
  },
  {
   "cell_type": "code",
   "execution_count": 38,
   "metadata": {},
   "outputs": [],
   "source": [
    "import pattern3\n",
    "from pattern3.web import Wikipedia, plaintext\n",
    "import re"
   ]
  },
  {
   "cell_type": "code",
   "execution_count": 71,
   "metadata": {
    "collapsed": true
   },
   "outputs": [],
   "source": [
    "class WikiParser:\n",
    "    def __init__(self):\n",
    "        pass\n",
    "\n",
    "    def get_articles(self, start):\n",
    "\n",
    "        article = Wikipedia().article(title=start)\n",
    "        links = article.links\n",
    "        list_of_strings = []\n",
    "        for l in links:\n",
    "            l_art = Wikipedia().article(title=l)\n",
    "            l_text =  re.sub(' +', ' ', plaintext(l_art.source), flags = re.DOTALL)\n",
    "            l_text = re.sub('[.;:!?\\'\\\"-\\(\\)]+', '', l_text, flags = re.DOTALL).lower()\n",
    "            list_of_strings.append(l_text.split())\n",
    "\n",
    "        return list_of_strings"
   ]
  },
  {
   "cell_type": "code",
   "execution_count": 70,
   "metadata": {},
   "outputs": [
    {
     "ename": "TypeError",
     "evalue": "get() got an unexpected keyword argument 'default'",
     "output_type": "error",
     "traceback": [
      "\u001b[1;31m---------------------------------------------------------------------------\u001b[0m",
      "\u001b[1;31mTypeError\u001b[0m                                 Traceback (most recent call last)",
      "\u001b[1;32m<ipython-input-70-5ec7a7faa2b7>\u001b[0m in \u001b[0;36m<module>\u001b[1;34m()\u001b[0m\n\u001b[1;32m----> 1\u001b[1;33m \u001b[0mm\u001b[0m \u001b[1;33m=\u001b[0m \u001b[0mWikiParser\u001b[0m\u001b[1;33m(\u001b[0m\u001b[1;33m)\u001b[0m\u001b[1;33m.\u001b[0m\u001b[0mget_articles\u001b[0m\u001b[1;33m(\u001b[0m\u001b[1;34m'Cat'\u001b[0m\u001b[1;33m)\u001b[0m\u001b[1;33m\u001b[0m\u001b[0m\n\u001b[0m",
      "\u001b[1;32m<ipython-input-67-6da4e7c0de33>\u001b[0m in \u001b[0;36mget_articles\u001b[1;34m(self, start)\u001b[0m\n\u001b[0;32m      5\u001b[0m     \u001b[1;32mdef\u001b[0m \u001b[0mget_articles\u001b[0m\u001b[1;33m(\u001b[0m\u001b[0mself\u001b[0m\u001b[1;33m,\u001b[0m \u001b[0mstart\u001b[0m\u001b[1;33m)\u001b[0m\u001b[1;33m:\u001b[0m\u001b[1;33m\u001b[0m\u001b[0m\n\u001b[0;32m      6\u001b[0m \u001b[1;33m\u001b[0m\u001b[0m\n\u001b[1;32m----> 7\u001b[1;33m         \u001b[0marticle\u001b[0m \u001b[1;33m=\u001b[0m \u001b[0mWikipedia\u001b[0m\u001b[1;33m(\u001b[0m\u001b[1;33m)\u001b[0m\u001b[1;33m.\u001b[0m\u001b[0marticle\u001b[0m\u001b[1;33m(\u001b[0m\u001b[0mstart\u001b[0m\u001b[1;33m)\u001b[0m\u001b[1;33m\u001b[0m\u001b[0m\n\u001b[0m\u001b[0;32m      8\u001b[0m         \u001b[0mlinks\u001b[0m \u001b[1;33m=\u001b[0m \u001b[0marticle\u001b[0m\u001b[1;33m.\u001b[0m\u001b[0mlinks\u001b[0m\u001b[1;33m\u001b[0m\u001b[0m\n\u001b[0;32m      9\u001b[0m         \u001b[0mlist_of_strings\u001b[0m \u001b[1;33m=\u001b[0m \u001b[1;33m[\u001b[0m\u001b[1;33m]\u001b[0m\u001b[1;33m\u001b[0m\u001b[0m\n",
      "\u001b[1;32mC:\\ProgramData\\Anaconda3\\lib\\site-packages\\pattern3\\web\\__init__.py\u001b[0m in \u001b[0;36marticle\u001b[1;34m(self, query, cached, **kwargs)\u001b[0m\n\u001b[0;32m   2208\u001b[0m         \u001b[0mkwargs\u001b[0m\u001b[1;33m.\u001b[0m\u001b[0msetdefault\u001b[0m\u001b[1;33m(\u001b[0m\u001b[1;34m\"timeout\"\u001b[0m\u001b[1;33m,\u001b[0m \u001b[1;36m30\u001b[0m\u001b[1;33m)\u001b[0m\u001b[1;33m\u001b[0m\u001b[0m\n\u001b[0;32m   2209\u001b[0m         \u001b[0mkwargs\u001b[0m\u001b[1;33m.\u001b[0m\u001b[0msetdefault\u001b[0m\u001b[1;33m(\u001b[0m\u001b[1;34m\"throttle\"\u001b[0m\u001b[1;33m,\u001b[0m \u001b[0mself\u001b[0m\u001b[1;33m.\u001b[0m\u001b[0mthrottle\u001b[0m\u001b[1;33m)\u001b[0m\u001b[1;33m\u001b[0m\u001b[0m\n\u001b[1;32m-> 2210\u001b[1;33m         \u001b[0mdata\u001b[0m \u001b[1;33m=\u001b[0m \u001b[0murl\u001b[0m\u001b[1;33m.\u001b[0m\u001b[0mdownload\u001b[0m\u001b[1;33m(\u001b[0m\u001b[0mcached\u001b[0m\u001b[1;33m=\u001b[0m\u001b[0mcached\u001b[0m\u001b[1;33m,\u001b[0m \u001b[1;33m**\u001b[0m\u001b[0mkwargs\u001b[0m\u001b[1;33m)\u001b[0m\u001b[1;33m\u001b[0m\u001b[0m\n\u001b[0m\u001b[0;32m   2211\u001b[0m         \u001b[0mdata\u001b[0m \u001b[1;33m=\u001b[0m \u001b[0mjson\u001b[0m\u001b[1;33m.\u001b[0m\u001b[0mloads\u001b[0m\u001b[1;33m(\u001b[0m\u001b[0mdata\u001b[0m\u001b[1;33m)\u001b[0m\u001b[1;33m\u001b[0m\u001b[0m\n\u001b[0;32m   2212\u001b[0m         \u001b[0mdata\u001b[0m \u001b[1;33m=\u001b[0m \u001b[0mdata\u001b[0m\u001b[1;33m.\u001b[0m\u001b[0mget\u001b[0m\u001b[1;33m(\u001b[0m\u001b[1;34m\"parse\"\u001b[0m\u001b[1;33m,\u001b[0m \u001b[1;33m{\u001b[0m\u001b[1;33m}\u001b[0m\u001b[1;33m)\u001b[0m\u001b[1;33m\u001b[0m\u001b[0m\n",
      "\u001b[1;32mC:\\ProgramData\\Anaconda3\\lib\\site-packages\\pattern3\\web\\__init__.py\u001b[0m in \u001b[0;36mdownload\u001b[1;34m(self, timeout, cached, throttle, proxy, user_agent, referrer, authentication, str, **kwargs)\u001b[0m\n\u001b[0;32m    630\u001b[0m                 \u001b[1;32mreturn\u001b[0m \u001b[0mCACHE\u001b[0m\u001b[1;33m[\u001b[0m\u001b[0mid\u001b[0m\u001b[1;33m]\u001b[0m\u001b[1;33m\u001b[0m\u001b[0m\n\u001b[0;32m    631\u001b[0m             \u001b[1;32mif\u001b[0m \u001b[0mstr\u001b[0m \u001b[1;32mis\u001b[0m \u001b[1;32mFalse\u001b[0m\u001b[1;33m:\u001b[0m\u001b[1;33m\u001b[0m\u001b[0m\n\u001b[1;32m--> 632\u001b[1;33m                 \u001b[1;32mreturn\u001b[0m \u001b[0mCACHE\u001b[0m\u001b[1;33m.\u001b[0m\u001b[0mget\u001b[0m\u001b[1;33m(\u001b[0m\u001b[0mid\u001b[0m\u001b[1;33m,\u001b[0m \u001b[0mdefault\u001b[0m\u001b[1;33m=\u001b[0m\u001b[1;32mFalse\u001b[0m\u001b[1;33m)\u001b[0m\u001b[1;33m\u001b[0m\u001b[0m\n\u001b[0m\u001b[0;32m    633\u001b[0m         \u001b[0mt\u001b[0m \u001b[1;33m=\u001b[0m \u001b[0mtime\u001b[0m\u001b[1;33m.\u001b[0m\u001b[0mtime\u001b[0m\u001b[1;33m(\u001b[0m\u001b[1;33m)\u001b[0m\u001b[1;33m\u001b[0m\u001b[0m\n\u001b[0;32m    634\u001b[0m         \u001b[1;31m# Open a connection with the given settings, read it and (by default)\u001b[0m\u001b[1;33m\u001b[0m\u001b[1;33m\u001b[0m\u001b[0m\n",
      "\u001b[1;31mTypeError\u001b[0m: get() got an unexpected keyword argument 'default'"
     ]
    }
   ],
   "source": [
    "m = WikiParser().get_articles('Cat')\n"
   ]
  },
  {
   "cell_type": "markdown",
   "metadata": {},
   "source": [
    " Реализовать класс TextStatistics с конструктором, который принимает в качестве аргумента список содержимого статей:\n",
    "get_top_3grams - возвращает tuple, первым элемент которого - список 3-грамм в порядке убывания их частот, второй элемент - соотвественно список сколько раз встретилась каждая 3грамма. Подсчет идет по всему корпусу articles. При подсчете 3-грамм исключить из рассмотрения все числа и пунктуацию.\n",
    "get_top_words - возвращает tuple, первым элемент которого - список слов в порядке убывания их частот, второй элемент - соотвественно список сколько раз встретилась каждое слово. Подсчет идет по всему корпусу articles. При подсчете слов исключить из рассмотрения все числа, предлоги, артикли и пунктуацию."
   ]
  },
  {
   "cell_type": "code",
   "execution_count": 46,
   "metadata": {},
   "outputs": [],
   "source": [
    "class TextStatistics:\n",
    "     def __init___(self, articles):\n",
    "            pass\n",
    "    \n",
    "     def get_top_3grams(self, n):\n",
    "            \n",
    "            list_of_3grams_in_descending_order_by_freq = []\n",
    "            list_of_their_corresponding_freq = []\n",
    "            for art in self.articles:\n",
    "                for i in range(len(self.articles[art]) - 2):\n",
    "                    three_gram = ' '.join(self.articles[art][i],  self.articles[art][i+1], selfarticles[art][i+1]:\n",
    "                    if three_gram in list_of_3grams_and_freq:\n",
    "                        list_of_3grams_and_freq.setdefault(three_gram, 0)\n",
    "                        list_of_3grams_and_freq[three_gram] += 1          \n",
    "            for key, value in sorted(list_of_3grams_and_freq.items(), key=operator.itemgetter(1)): \n",
    "                list_of_3grams_in_descending_order_by_freq.append(key)\n",
    "                list_of_their_corresponding_freq.append(value)  \n",
    "                                          \n",
    "            return (list_of_3grams_in_descending_order_by_freq, list_of_their_corresponding_freq)\n",
    "    \n",
    "    \n",
    "    \n",
    "     def get_top_words(self, n):\n",
    "            \n",
    "            return (list_of_words_in_descending_order_by_freq, list_of_their_corresponding_freq)"
   ]
  },
  {
   "cell_type": "markdown",
   "metadata": {},
   "source": [
    "3. Реализовать класс Experiment с методом show_results, который используя WikiParser и TextStatistics:\n",
    "Выполняет парсинг статей википедии для \"Natural language processing\"\n",
    "По полученному корпусу текстов считает топ-20 3-грамм и топ-20 слов.\n",
    "По статье \"Natural language processing\" (только по ней) считает топ-5 3-грамм и топ-5 слов.\n",
    "Печатает результаты эксперимента в структурированной форме\n",
    "4. В комментариях после класса Experiment привести результаты выполнения метода show_results.\n",
    "5. Результатом выполнения задания является код указанных классов и корректные результаты эксперимента"
   ]
  },
  {
   "cell_type": "code",
   "execution_count": null,
   "metadata": {
    "collapsed": true
   },
   "outputs": [],
   "source": [
    "class Experiment:\n",
    "    "
   ]
  }
 ],
 "metadata": {
  "kernelspec": {
   "display_name": "Python 3",
   "language": "python",
   "name": "python3"
  },
  "language_info": {
   "codemirror_mode": {
    "name": "ipython",
    "version": 3
   },
   "file_extension": ".py",
   "mimetype": "text/x-python",
   "name": "python",
   "nbconvert_exporter": "python",
   "pygments_lexer": "ipython3",
   "version": "3.6.1"
  }
 },
 "nbformat": 4,
 "nbformat_minor": 2
}
