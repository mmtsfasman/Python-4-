{
 "cells": [
  {
   "cell_type": "code",
   "execution_count": 7,
   "metadata": {},
   "outputs": [],
   "source": [
    "from unittest import *"
   ]
  },
  {
   "cell_type": "code",
   "execution_count": 8,
   "metadata": {},
   "outputs": [],
   "source": [
    "def poly_hash(s, x=31, p=997):\n",
    "    h = 0\n",
    "    for j in range(len(s)-1, -1, -1):\n",
    "        h = (h * x + ord(s[j]) + p) % p\n",
    "    return h\n"
   ]
  },
  {
   "cell_type": "code",
   "execution_count": 9,
   "metadata": {},
   "outputs": [],
   "source": [
    "def search_rabin_multi(text, patterns):\n",
    "    x=31\n",
    "    p=997\n",
    "    indices = []\n",
    "    valid_patterns = []\n",
    "    \n",
    "    if len(patterns)== 0 or type(text) != str or type(patterns)!=list:\n",
    "        return ('Non-valid input:(')\n",
    " \n",
    "        \n",
    "    for p in patterns:\n",
    "        if type(pattern) is str:\n",
    "            valid_patterns.append(p)\n",
    "        else:\n",
    "            print('Non-valid input:(')\n",
    "            \n",
    "    for p in valid_patterns:\n",
    "        pattern_indices = []\n",
    "            \n",
    "        if len(text) < len(p):\n",
    "            indices.append([])\n",
    "    \n",
    "        precomputed = [0] * (len(text) - len(p) + 1)\n",
    "        precomputed[-1] = poly_hash(text[-len(p):], x, p)\n",
    "    \n",
    "        factor = 1\n",
    "        for i in range(len(p)):\n",
    "            factor = (factor*x + p) % p\n",
    "        \n",
    "        for i in range(len(text) - len(p)-1, -1, -1):\n",
    "            precomputed[i] = (precomputed[i+1] * x + ord(text[i]) - factor * ord(text[i+len(pattern)]) + p) % p\n",
    "    \n",
    "        p_hash = poly_hash(p, x, p)\n",
    "        \n",
    "        for i in range(len(precomputed)):\n",
    "            if precomputed[i] == p_hash:\n",
    "                if text[i: i + len(pattern)] == pattern:\n",
    "                    pattern_indices.append(i)\n",
    "        \n",
    "        indices.append(pattern_indices)\n",
    "        \n",
    "    return indices"
   ]
  },
  {
   "cell_type": "code",
   "execution_count": 12,
   "metadata": {},
   "outputs": [],
   "source": [
    "class SearchRabinMultiTest(TestCase):\n",
    "    def setUp(self):\n",
    "        self.search = search_rabin_multi\n",
    "        \n",
    "    def test_empty(self):\n",
    "        text = ''\n",
    "        pattern = 'smth'\n",
    "        self.assertEqual(len(self.search(text, pattern)), 0)\n",
    "    \n",
    "   \n",
    "    def test_big_pattern(self):\n",
    "        text = 'blabla'\n",
    "        pattern = 'blablabla'\n",
    "        self.assertEqual(len(self.search(text, pattern)), 0)\n",
    "    \n",
    "    def test_count(self):\n",
    "        text = 'Betty Botter bought some butter, \\\n",
    "            But, she said, the butter’s bitter. \\\n",
    "            If I put it in my batter, \\\n",
    "            It will make my batter bitter.'\n",
    "        pattern = 'tt'\n",
    "        indices = [2, 8, 27, 66, 75, 113, 149, 156]\n",
    "        self.assertListEqual(self.search(text, pattern), indices)\n",
    "        \n",
    "    def test_invalid_output(self):\n",
    "        self.assertEqual([[], [0, 3], [2]],search_rabin_multi('Tiger tiger burning bright',['jfdh','tig', ' b']))\n",
    "        self.assertEqual([[1]],search_rabin_multi('blabla',['abl']))\n",
    "\n",
    "    \n",
    "\n",
    "    "
   ]
  },
  {
   "cell_type": "code",
   "execution_count": 13,
   "metadata": {},
   "outputs": [
    {
     "name": "stderr",
     "output_type": "stream",
     "text": [
      "FFFE\n",
      "======================================================================\n",
      "ERROR: test_invalid_output (__main__.SearchRabinMultiTest)\n",
      "----------------------------------------------------------------------\n",
      "Traceback (most recent call last):\n",
      "  File \"<ipython-input-12-7ed274c35c49>\", line 23, in test_invalid_output\n",
      "    self.assertEqual([[], [0, 3], [2]],search_rabin_multi('Tiger tiger burning bright',['jfdh','tig', ' b']))\n",
      "  File \"<ipython-input-9-0fc7e8bd4e14>\", line 12, in search_rabin_multi\n",
      "    if type(pattern) is str:\n",
      "NameError: name 'pattern' is not defined\n",
      "\n",
      "======================================================================\n",
      "FAIL: test_big_pattern (__main__.SearchRabinMultiTest)\n",
      "----------------------------------------------------------------------\n",
      "Traceback (most recent call last):\n",
      "  File \"<ipython-input-12-7ed274c35c49>\", line 14, in test_big_pattern\n",
      "    self.assertEqual(len(self.search(text, pattern)), 0)\n",
      "AssertionError: 17 != 0\n",
      "\n",
      "======================================================================\n",
      "FAIL: test_count (__main__.SearchRabinMultiTest)\n",
      "----------------------------------------------------------------------\n",
      "Traceback (most recent call last):\n",
      "  File \"<ipython-input-12-7ed274c35c49>\", line 20, in test_count\n",
      "    self.assertListEqual(self.search(text, pattern), indices)\n",
      "AssertionError: First sequence is not a list: 'Non-valid input:('\n",
      "\n",
      "======================================================================\n",
      "FAIL: test_empty (__main__.SearchRabinMultiTest)\n",
      "----------------------------------------------------------------------\n",
      "Traceback (most recent call last):\n",
      "  File \"<ipython-input-12-7ed274c35c49>\", line 8, in test_empty\n",
      "    self.assertEqual(len(self.search(text, pattern)), 0)\n",
      "AssertionError: 17 != 0\n",
      "\n",
      "----------------------------------------------------------------------\n",
      "Ran 4 tests in 0.021s\n",
      "\n",
      "FAILED (failures=3, errors=1)\n"
     ]
    },
    {
     "data": {
      "text/plain": [
       "<unittest.runner.TextTestResult run=4 errors=1 failures=3>"
      ]
     },
     "execution_count": 13,
     "metadata": {},
     "output_type": "execute_result"
    }
   ],
   "source": [
    "case = SearchRabinMultiTest()\n",
    "suite = TestLoader().loadTestsFromModule(case)\n",
    "TextTestRunner().run(suite)"
   ]
  },
  {
   "cell_type": "code",
   "execution_count": null,
   "metadata": {},
   "outputs": [],
   "source": []
  },
  {
   "cell_type": "code",
   "execution_count": null,
   "metadata": {},
   "outputs": [],
   "source": []
  }
 ],
 "metadata": {
  "kernelspec": {
   "display_name": "Python 3",
   "language": "python",
   "name": "python3"
  },
  "language_info": {
   "codemirror_mode": {
    "name": "ipython",
    "version": 3
   },
   "file_extension": ".py",
   "mimetype": "text/x-python",
   "name": "python",
   "nbconvert_exporter": "python",
   "pygments_lexer": "ipython3",
   "version": "3.5.4"
  }
 },
 "nbformat": 4,
 "nbformat_minor": 2
}
