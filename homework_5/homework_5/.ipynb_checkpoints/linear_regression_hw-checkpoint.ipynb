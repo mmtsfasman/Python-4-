{
 "cells": [
  {
   "cell_type": "markdown",
   "metadata": {},
   "source": [
    "# Linear regression"
   ]
  },
  {
   "cell_type": "markdown",
   "metadata": {},
   "source": [
    "$D = (X, Y) = \\{(x_i, y_i)\\}_{i=1}^N$ - обучающая выборка, N - число объектов в выборке  \n",
    "$X = \\{x_{ij}\\}$ - матрица признаков (design matrix), $X \\in R^{Nxd}$,  \n",
    "где d - размерность признаков.  \n",
    "$Y = [y_1, ..., y_N]^T$ - целевой признак, значение которого необходимо научится предсказывать.  \n",
    "В случае регрессии $Y \\in R^N$\n",
    "\n",
    "\n",
    "Определим ошибку на одном объекте выборки (loss): $Loss(y_i, \\hat{y_i}) = \\frac{1}{2} (y_i - \\hat{y_i})^2$    \n",
    "Определим ожидаемую ошибку на всей выборке (в нашем случае это будет - MSE, Mean Square Error): $Q(f, x, y) = \\frac{1}{N} \\sum_{i=1}^N Loss(y_i, f(x_i))$  \n",
    "\n",
    "где f(x) - наша модель регрессии  \n",
    "\n",
    "Рассмотрим модель линейной регрессии: $f(x_i) = f(x_i; w) = \\sum_{j=1}^d w_j x_{ij} + w_0 = W^TX + w_0$,  \n",
    "где $W = [w_1, ..., w_d]^T$ - вектор весов, который нужно обучить.  \n",
    "\n",
    "Тогда ожидаемую ошибку на всей выборке можно записать как:  \n",
    "$Q(f, x, y) = \\frac{1}{N} \\sum_{i=1}^N Loss(y_i, f(x_i)) = \\frac{1}{N} \\sum_{i=1}^N Loss(y_i, \\sum_{j=1}^d w_j x_{ij} + w_0) = \\frac{1}{2N} \\sum_{i=1}^N (y_i - \\sum_{j=1}^d w_j x_{ij} - w_0)^2$  \n",
    "\n",
    "\n",
    "Для обучения нашей модели нам необходимо минизировать Q относительно W при заданных X,Y:  \n",
    "\n",
    "$Q(w) = \\frac{1}{2N} \\sum_{i=1}^N (y_i - \\sum_{j=1}^d w_j x_{ij} - w_0)^2 \\rightarrow \\underset{W}{min}$ \n",
    "\n",
    "Одним из способов минимизации Q является градиентного спуск, алгоритм которого grad_descent($\\alpha, \\epsilon$, max_iter) в общем виде выглядит как:  \n",
    "1. $W^{(0)} \\leftarrow N(0,1)$ инициализировать начальное приближение для вектора весов небольшими случайными значениями, например из стандартного нормально распределения  \n",
    "2. for i in range(max_iter):  \n",
    "    2.1 $\\nabla_wQ = [\\frac{\\partial Q}{\\partial w_0}, \\frac{\\partial Q}{\\partial w_1}, ..., \\frac{\\partial Q}{\\partial w_d}]^T$ - посчитать градиент в точке $W = W^{(t)}$  \n",
    "    2.2 $W^{(t+1)} = W^{(t)} - \\alpha * \\nabla_wQ$ - обновить вектор весов, сделав  шаг длины $\\alpha$ в сторону антиградиента  \n",
    "    2.3 Если $||\\nabla_wQ ||_2 < \\epsilon $  - если норма градиента стала меньше некоторой заданной малой величины, то мы считаем, что алгоритм сошелся и прерываем цикл\n",
    "\n",
    " "
   ]
  },
  {
   "cell_type": "markdown",
   "metadata": {},
   "source": [
    "# Homework 5"
   ]
  },
  {
   "cell_type": "markdown",
   "metadata": {},
   "source": [
    "Ваша задача - заполнить пропуски # YOUR CODE HERE, и выполнить код\n",
    "\n",
    "В этой домашней работе необходимо реализовать одномерную линейную регрессию.  \n",
    "Таким образом, в упрощенной постановке задачи d=1.\n",
    "\n",
    "$f(x_i) = f(x_i; w) = w_1* x_i + w_0$   - наш алгоритм регрессии   \n",
    "$Q(w) = \\frac{1}{N} \\sum_{i=1}^N (y_i - w_1 x_i - w_0)^2 \\rightarrow \\underset{w_1, w_0}{min}$ - наш MSE  \n",
    "\n",
    "Градиент MSE по весам весам нашего алгоритма:  \n",
    "$\\nabla_wQ = [\\frac{\\partial Q}{\\partial w_0}, \\frac{\\partial Q}{\\partial w_1}]^T$\n",
    "\n",
    "$\\frac{\\partial Q}{\\partial w_0} = -\\frac{1}{N} \\sum_{i=1}^N (y_i - w_1 x_i - w_0)$  \n",
    "$\\frac{\\partial Q}{\\partial w_1} = -\\frac{1}{N} \\sum_{i=1}^N (y_i - w_1 x_i - w_0)x_i$  \n",
    "\n",
    "Сам алгоритм градиентного спуска grad_descent($\\alpha, \\epsilon$, max_iter) будет выглядеть так:  \n",
    "\n",
    "1. $w_1^{(0)}, w_0^{(0)} \\leftarrow N(0,1)$ инициализировать начальное приближение для вектора весов небольшими случайными значениями, например из стандартного нормально распределения  \n",
    "2. for i in range(max_iter):  \n",
    "    2.1 $\\nabla_wQ = [\\frac{\\partial Q}{\\partial w_0}, \\frac{\\partial Q}{\\partial w_1}]^T$ - посчитать градиент в точке $(w_1^{(t)}, w_0^{(t)})$  \n",
    "    2.2 обновить вектор весов, сделав  шаг длины $\\alpha$ в сторону антиградиента  \n",
    "    $w_1^{(t+1)} = w_1^{(t)} - \\alpha * \\frac{\\partial Q}{\\partial w_1}$  \n",
    "    $w_0^{(t+1)} = w_0^{(t)} - \\alpha * \\frac{\\partial Q}{\\partial w_0}$   \n",
    "       \n",
    "    2.3 Если $\\sqrt{(w_1^2 + w_0^2)} < \\epsilon $  - если норма градиента стала меньше некоторой заданной малой величины, то мы считаем, что алгоритм сошелся и прерываем цикл"
   ]
  },
  {
   "cell_type": "code",
   "execution_count": 105,
   "metadata": {
    "collapsed": true
   },
   "outputs": [],
   "source": [
    "import numpy as np\n",
    "\n",
    "SEED = 17\n",
    "np.random.seed(SEED)"
   ]
  },
  {
   "cell_type": "code",
   "execution_count": 106,
   "metadata": {
    "collapsed": true
   },
   "outputs": [],
   "source": [
    "class SimpleLinearRegression:\n",
    "    def __init__(self, step = 0.01, tol = 1e-4, max_iter=1000, verbose=False, random_state=SEED):\n",
    "        self.max_iter = max_iter # max iter count of gradient descent\n",
    "        self.step = step # step of descent in the direction of antigradient\n",
    "        self.tol = tol # we compare norm of gradient with that threshold\n",
    "        self._w = None # w_1\n",
    "        self._intercept = None # w_0\n",
    "        self.random_state = random_state \n",
    "        self.verbose = verbose\n",
    "        \n",
    "    def predict(self, X):\n",
    "        \"\"\"\n",
    "        estimate target variable \"y\" based on features X \n",
    "        \"\"\"\n",
    "        y_pred = self._w*X + self._intercept \n",
    "        assert y_pred.shape[0] == X.shape[0]\n",
    "        return y_pred\n",
    "    \n",
    "    def score(self, X, y):\n",
    "        \"\"\"\n",
    "        MSE\n",
    "        X - features\n",
    "        y - true values of target variable\n",
    "        \"\"\"\n",
    "        return np.mean((y - self.predict(X))**2)\n",
    "    \n",
    "    def _gradient(self, X, y):\n",
    "        \"\"\"\n",
    "        Compute gradient of MSE subject to w_1, w_0\n",
    "        X - features\n",
    "        y - true values of target variable\n",
    "        \"\"\"\n",
    "        grad_w = -1*(np.mean(y - self._w*X - self.intercept))\n",
    "        grad_intercept = -1*(np.mean((y - self._w*X - self.intercept)*X))\n",
    "        \n",
    "        return grad_w, grad_intercept\n",
    "        \n",
    "    def fit(self, X, y):\n",
    "        \"\"\"\n",
    "        Train model with gradient descent\n",
    "        X - features\n",
    "        y - true values of target variable\n",
    "        \"\"\"\n",
    "        # for reproducable results\n",
    "        np.random.seed(self.random_state)\n",
    "        \n",
    "        # initialize weights\n",
    "        self._w, self._intercept = np.random.randn(2)\n",
    "        # perform gradient descent\n",
    "        for iter in range(self.max_iter):\n",
    "            # compute gradient at current W\n",
    "            grad_w, grad_intercept = self._gradient(self, X, y)\n",
    "            \n",
    "            # make step, update W\n",
    "            self._w = self._w - self.step*grad_w # YOUR CODE HERE\n",
    "            self._intercept = self._intercept - self.step*grad_intercept # YOUR CODE HERE\n",
    "            \n",
    "            # compute gradient norm            \n",
    "            grad_norm = (self._w**2 +  self._intercept**2)**0.5\n",
    "            \n",
    "            # people like to watch how the error is reducing during iterations \n",
    "            if self.verbose:\n",
    "                mse_score = self.score(X, y)\n",
    "                print('iteration %d, MSE = %f, ||grad|| = %f' % (iter, mse_score, grad_norm))\n",
    "                \n",
    "            # compare gradient norm with threshold\n",
    "            if grad_norm < self.tol:\n",
    "                print('model converged')\n",
    "                return self\n",
    "        print('model did not converge')\n",
    "        return self"
   ]
  },
  {
   "cell_type": "markdown",
   "metadata": {},
   "source": [
    "### Прикладная задача\n",
    "Для Boston dataset мы хотим научится предсказывать значение target по признаку CRIM.  \n",
    "При необходимости посмотрите прошлый семенар и документацию к pandas."
   ]
  },
  {
   "cell_type": "code",
   "execution_count": 108,
   "metadata": {
    "collapsed": true
   },
   "outputs": [],
   "source": [
    "import pandas as pd\n",
    "from sklearn import datasets\n"
   ]
  },
  {
   "cell_type": "code",
   "execution_count": 109,
   "metadata": {},
   "outputs": [
    {
     "data": {
      "text/plain": [
       "dict_keys(['feature_names', 'target', 'DESCR', 'data'])"
      ]
     },
     "execution_count": 109,
     "metadata": {},
     "output_type": "execute_result"
    }
   ],
   "source": [
    "boston_data = datasets.load_boston()\n",
    "boston_data.keys()"
   ]
  },
  {
   "cell_type": "code",
   "execution_count": 110,
   "metadata": {
    "scrolled": false
   },
   "outputs": [
    {
     "data": {
      "text/html": [
       "<div>\n",
       "<style>\n",
       "    .dataframe thead tr:only-child th {\n",
       "        text-align: right;\n",
       "    }\n",
       "\n",
       "    .dataframe thead th {\n",
       "        text-align: left;\n",
       "    }\n",
       "\n",
       "    .dataframe tbody tr th {\n",
       "        vertical-align: top;\n",
       "    }\n",
       "</style>\n",
       "<table border=\"1\" class=\"dataframe\">\n",
       "  <thead>\n",
       "    <tr style=\"text-align: right;\">\n",
       "      <th></th>\n",
       "      <th>CRIM</th>\n",
       "      <th>ZN</th>\n",
       "      <th>INDUS</th>\n",
       "      <th>CHAS</th>\n",
       "      <th>NOX</th>\n",
       "      <th>RM</th>\n",
       "      <th>AGE</th>\n",
       "      <th>DIS</th>\n",
       "      <th>RAD</th>\n",
       "      <th>TAX</th>\n",
       "      <th>PTRATIO</th>\n",
       "      <th>B</th>\n",
       "      <th>LSTAT</th>\n",
       "      <th>target</th>\n",
       "    </tr>\n",
       "  </thead>\n",
       "  <tbody>\n",
       "    <tr>\n",
       "      <th>0</th>\n",
       "      <td>0.00632</td>\n",
       "      <td>18.0</td>\n",
       "      <td>2.31</td>\n",
       "      <td>0.0</td>\n",
       "      <td>0.538</td>\n",
       "      <td>6.575</td>\n",
       "      <td>65.2</td>\n",
       "      <td>4.0900</td>\n",
       "      <td>1.0</td>\n",
       "      <td>296.0</td>\n",
       "      <td>15.3</td>\n",
       "      <td>396.90</td>\n",
       "      <td>4.98</td>\n",
       "      <td>24.0</td>\n",
       "    </tr>\n",
       "    <tr>\n",
       "      <th>1</th>\n",
       "      <td>0.02731</td>\n",
       "      <td>0.0</td>\n",
       "      <td>7.07</td>\n",
       "      <td>0.0</td>\n",
       "      <td>0.469</td>\n",
       "      <td>6.421</td>\n",
       "      <td>78.9</td>\n",
       "      <td>4.9671</td>\n",
       "      <td>2.0</td>\n",
       "      <td>242.0</td>\n",
       "      <td>17.8</td>\n",
       "      <td>396.90</td>\n",
       "      <td>9.14</td>\n",
       "      <td>21.6</td>\n",
       "    </tr>\n",
       "    <tr>\n",
       "      <th>2</th>\n",
       "      <td>0.02729</td>\n",
       "      <td>0.0</td>\n",
       "      <td>7.07</td>\n",
       "      <td>0.0</td>\n",
       "      <td>0.469</td>\n",
       "      <td>7.185</td>\n",
       "      <td>61.1</td>\n",
       "      <td>4.9671</td>\n",
       "      <td>2.0</td>\n",
       "      <td>242.0</td>\n",
       "      <td>17.8</td>\n",
       "      <td>392.83</td>\n",
       "      <td>4.03</td>\n",
       "      <td>34.7</td>\n",
       "    </tr>\n",
       "    <tr>\n",
       "      <th>3</th>\n",
       "      <td>0.03237</td>\n",
       "      <td>0.0</td>\n",
       "      <td>2.18</td>\n",
       "      <td>0.0</td>\n",
       "      <td>0.458</td>\n",
       "      <td>6.998</td>\n",
       "      <td>45.8</td>\n",
       "      <td>6.0622</td>\n",
       "      <td>3.0</td>\n",
       "      <td>222.0</td>\n",
       "      <td>18.7</td>\n",
       "      <td>394.63</td>\n",
       "      <td>2.94</td>\n",
       "      <td>33.4</td>\n",
       "    </tr>\n",
       "    <tr>\n",
       "      <th>4</th>\n",
       "      <td>0.06905</td>\n",
       "      <td>0.0</td>\n",
       "      <td>2.18</td>\n",
       "      <td>0.0</td>\n",
       "      <td>0.458</td>\n",
       "      <td>7.147</td>\n",
       "      <td>54.2</td>\n",
       "      <td>6.0622</td>\n",
       "      <td>3.0</td>\n",
       "      <td>222.0</td>\n",
       "      <td>18.7</td>\n",
       "      <td>396.90</td>\n",
       "      <td>5.33</td>\n",
       "      <td>36.2</td>\n",
       "    </tr>\n",
       "  </tbody>\n",
       "</table>\n",
       "</div>"
      ],
      "text/plain": [
       "      CRIM    ZN  INDUS  CHAS    NOX     RM   AGE     DIS  RAD    TAX  \\\n",
       "0  0.00632  18.0   2.31   0.0  0.538  6.575  65.2  4.0900  1.0  296.0   \n",
       "1  0.02731   0.0   7.07   0.0  0.469  6.421  78.9  4.9671  2.0  242.0   \n",
       "2  0.02729   0.0   7.07   0.0  0.469  7.185  61.1  4.9671  2.0  242.0   \n",
       "3  0.03237   0.0   2.18   0.0  0.458  6.998  45.8  6.0622  3.0  222.0   \n",
       "4  0.06905   0.0   2.18   0.0  0.458  7.147  54.2  6.0622  3.0  222.0   \n",
       "\n",
       "   PTRATIO       B  LSTAT  target  \n",
       "0     15.3  396.90   4.98    24.0  \n",
       "1     17.8  396.90   9.14    21.6  \n",
       "2     17.8  392.83   4.03    34.7  \n",
       "3     18.7  394.63   2.94    33.4  \n",
       "4     18.7  396.90   5.33    36.2  "
      ]
     },
     "execution_count": 110,
     "metadata": {},
     "output_type": "execute_result"
    }
   ],
   "source": [
    "df = pd.DataFrame(boston_data['data'], columns=boston_data['feature_names'])\n",
    "df['target'] = boston_data['target']\n",
    "df.head()"
   ]
  },
  {
   "cell_type": "code",
   "execution_count": 111,
   "metadata": {
    "scrolled": true
   },
   "outputs": [
    {
     "name": "stdout",
     "output_type": "stream",
     "text": [
      "Boston House Prices dataset\n",
      "===========================\n",
      "\n",
      "Notes\n",
      "------\n",
      "Data Set Characteristics:  \n",
      "\n",
      "    :Number of Instances: 506 \n",
      "\n",
      "    :Number of Attributes: 13 numeric/categorical predictive\n",
      "    \n",
      "    :Median Value (attribute 14) is usually the target\n",
      "\n",
      "    :Attribute Information (in order):\n",
      "        - CRIM     per capita crime rate by town\n",
      "        - ZN       proportion of residential land zoned for lots over 25,000 sq.ft.\n",
      "        - INDUS    proportion of non-retail business acres per town\n",
      "        - CHAS     Charles River dummy variable (= 1 if tract bounds river; 0 otherwise)\n",
      "        - NOX      nitric oxides concentration (parts per 10 million)\n",
      "        - RM       average number of rooms per dwelling\n",
      "        - AGE      proportion of owner-occupied units built prior to 1940\n",
      "        - DIS      weighted distances to five Boston employment centres\n",
      "        - RAD      index of accessibility to radial highways\n",
      "        - TAX      full-value property-tax rate per $10,000\n",
      "        - PTRATIO  pupil-teacher ratio by town\n",
      "        - B        1000(Bk - 0.63)^2 where Bk is the proportion of blacks by town\n",
      "        - LSTAT    % lower status of the population\n",
      "        - MEDV     Median value of owner-occupied homes in $1000's\n",
      "\n",
      "    :Missing Attribute Values: None\n",
      "\n",
      "    :Creator: Harrison, D. and Rubinfeld, D.L.\n",
      "\n",
      "This is a copy of UCI ML housing dataset.\n",
      "http://archive.ics.uci.edu/ml/datasets/Housing\n",
      "\n",
      "\n",
      "This dataset was taken from the StatLib library which is maintained at Carnegie Mellon University.\n",
      "\n",
      "The Boston house-price data of Harrison, D. and Rubinfeld, D.L. 'Hedonic\n",
      "prices and the demand for clean air', J. Environ. Economics & Management,\n",
      "vol.5, 81-102, 1978.   Used in Belsley, Kuh & Welsch, 'Regression diagnostics\n",
      "...', Wiley, 1980.   N.B. Various transformations are used in the table on\n",
      "pages 244-261 of the latter.\n",
      "\n",
      "The Boston house-price data has been used in many machine learning papers that address regression\n",
      "problems.   \n",
      "     \n",
      "**References**\n",
      "\n",
      "   - Belsley, Kuh & Welsch, 'Regression diagnostics: Identifying Influential Data and Sources of Collinearity', Wiley, 1980. 244-261.\n",
      "   - Quinlan,R. (1993). Combining Instance-Based and Model-Based Learning. In Proceedings on the Tenth International Conference of Machine Learning, 236-243, University of Massachusetts, Amherst. Morgan Kaufmann.\n",
      "   - many more! (see http://archive.ics.uci.edu/ml/datasets/Housing)\n",
      "\n"
     ]
    }
   ],
   "source": [
    "print(boston_data['DESCR'])"
   ]
  },
  {
   "cell_type": "code",
   "execution_count": 3,
   "metadata": {
    "collapsed": true
   },
   "outputs": [],
   "source": [
    "# реализуем функцию, которая считает MSE \n",
    "def mse_score(y_true, y_pred):\n",
    "    \"\"\"\n",
    "    y_true - true values of target variable\n",
    "    y_pred - predicted values of target variable \n",
    "    \"\"\"\n",
    "    result = np.mean((y_true - y_pred)**2)\n",
    "    return result"
   ]
  },
  {
   "cell_type": "markdown",
   "metadata": {},
   "source": [
    "Разделим наш датасет на 2 части: на первой части мы будем обучаться, на второй оценивать качество работы алгоритма на новых данных"
   ]
  },
  {
   "cell_type": "code",
   "execution_count": 114,
   "metadata": {
    "collapsed": true
   },
   "outputs": [],
   "source": [
    "from sklearn.model_selection import train_test_split\n",
    "\n",
    "# разбили датасет в соотношении 60:40\n",
    "df_train, df_test = train_test_split(df, test_size=0.4, random_state=SEED, shuffle=True)"
   ]
  },
  {
   "cell_type": "code",
   "execution_count": 1,
   "metadata": {
    "collapsed": true
   },
   "outputs": [],
   "source": [
    "# обучите модель на df_train c verbose=True\n",
    "# Обратите внимание на отладочный вывод, ваша ошибка MSE должна уменьшаться с каждой итерацией\n",
    "# мы хотим научится предсказывать значение target по признаку CRIM\n",
    "model = SimpleLinearRegression()\n",
    "\n",
    "# YOUR CODE HERE\n",
    "mse_train_score = # YOUR CODE HERE\n",
    "\n",
    "print('MSE on train:', mse_train_score)"
   ]
  },
  {
   "cell_type": "code",
   "execution_count": 2,
   "metadata": {
    "collapsed": true
   },
   "outputs": [],
   "source": [
    "# # посчитали качество обученной модели на df_test\n",
    "\n",
    "# YOUR CODE HERE\n",
    "mse_test_score = # YOUR CODE HERE\n",
    "\n",
    "print('MSE on test:', mse_test_score)"
   ]
  },
  {
   "cell_type": "code",
   "execution_count": null,
   "metadata": {
    "collapsed": true
   },
   "outputs": [],
   "source": []
  }
 ],
 "metadata": {
  "kernelspec": {
   "display_name": "Python 3",
   "language": "python",
   "name": "python3"
  },
  "language_info": {
   "codemirror_mode": {
    "name": "ipython",
    "version": 3
   },
   "file_extension": ".py",
   "mimetype": "text/x-python",
   "name": "python",
   "nbconvert_exporter": "python",
   "pygments_lexer": "ipython3",
   "version": "3.6.1"
  },
  "widgets": {
   "state": {},
   "version": "1.1.2"
  }
 },
 "nbformat": 4,
 "nbformat_minor": 2
}
